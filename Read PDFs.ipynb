{
 "cells": [
  {
   "cell_type": "markdown",
   "metadata": {},
   "source": [
    "https://www.utdallas.edu/police/publicinfo.html"
   ]
  },
  {
   "cell_type": "code",
   "execution_count": 10,
   "metadata": {
    "scrolled": true
   },
   "outputs": [
    {
     "name": "stderr",
     "output_type": "stream",
     "text": [
      "PdfReadWarning: Xref table not zero-indexed. ID numbers for objects will be corrected. [pdf.py:1736]\n"
     ]
    }
   ],
   "source": [
    "import PyPDF2\n",
    "import csv\n",
    "\n",
    "#Read in a lot of crime PDFs, \n",
    "total_page_content = \"\"\n",
    "pdfList = ['2019-01.pdf',\n",
    "           '2019-02.pdf',\n",
    "          ]\n",
    "\n",
    "for pdf in pdfList:\n",
    "    read_pdf = PyPDF2.PdfFileReader(pdf)\n",
    "    number_of_pages = read_pdf.getNumPages()\n",
    "\n",
    "    for i in range(number_of_pages):\n",
    "        page = read_pdf.getPage(i)\n",
    "        page_content = page.extractText()\n",
    "        total_page_content += page_content[page_content.find('Incident Type:'):]  #gets rid of the UTD stuff at the Beginning\n",
    "\n",
    "#total_page_content has all content without the UTD Header. Still need to remove the Page numbers at the bottom\n",
    "#print(total_page_content)"
   ]
  },
  {
   "cell_type": "code",
   "execution_count": 11,
   "metadata": {},
   "outputs": [],
   "source": [
    "#dirty fix for removing the page numbers on here. This works assuming the pages are only single digit numbers.\n",
    "adjusted_total_page_content = \"\"\n",
    "for i in range(len(total_page_content.split(\"ofPage\"))):\n",
    "    adjusted_total_page_content += total_page_content.split(\"ofPage\")[i][:-2]\n",
    "    \n",
    "#print(adjusted_total_page_content)"
   ]
  },
  {
   "cell_type": "code",
   "execution_count": 12,
   "metadata": {
    "scrolled": false
   },
   "outputs": [
    {
     "name": "stdout",
     "output_type": "stream",
     "text": [
      "\n",
      "\n"
     ]
    },
    {
     "data": {
      "text/plain": [
       "'\\nprint(crime_name)\\nprint(location)\\nprint(date_reported)\\nprint(case_num)\\nprint(notes)\\nprint(occurred_between)\\nprint(int_ref_num)\\nprint(disposition)\\n'"
      ]
     },
     "execution_count": 12,
     "metadata": {},
     "output_type": "execute_result"
    }
   ],
   "source": [
    "crimes = adjusted_total_page_content.split(\"Incident Type:\")[1:]\n",
    "#print(crimes)\n",
    "#print(page_content.split(\"Incident Type\"))\n",
    "\n",
    "print(\"\")\n",
    "\n",
    "with open('crimes.csv', 'a', newline = \"\") as crimes_file:\n",
    "    csv_writer = csv.writer(crimes_file, delimiter = ',')\n",
    "\n",
    "    print(\"\")\n",
    "    for i in crimes:\n",
    "        crime_name = i.split(\"Location:\")[:1][0]\n",
    "        location = i.split(\"Location:\")[1].split(\"Date/Time Reported:\")[0]\n",
    "        date_reported = i.split(\"Date/Time Reported:\")[1].split(\"Case #:\")[0]\n",
    "        case_num = i.split(\"Case #:\")[1].split(\"Notes:\")[0]\n",
    "        notes = i.split(\"Notes:\")[1].split(\"Incident Occurred Between:\")[0]\n",
    "        occurred_between = i.split(\"Incident Occurred Between:\")[1].split(\"Int. Ref. #:\")[0]\n",
    "        int_ref_num = i.split(\"Int. Ref. #:\")[1].split(\"Disposition:\")[0]\n",
    "        \n",
    "        #pre_disposition = i.split(\"Disposition:\")[1]\n",
    "        #disposition = ''.join([i for i in pre_disposition if not i.isdigit()]) #remove numbers from disposition\n",
    "        disposition = i.split(\"Disposition:\")[1]\n",
    "        \n",
    "        #we can make a disposition fix here to make it so if the disposition has a number in it, we can remove it.\n",
    "        #I'm going to need to do this soon if I do the large logs\n",
    "        \n",
    "        #crime_obj = single_crime(crime_name, location, date_reported, case_num, notes, occurred_between, int_ref_num, disposition)\n",
    "\n",
    "        csv_writer.writerow([crime_name, location, date_reported, case_num, notes, occurred_between, int_ref_num, disposition])\n",
    "\n",
    "'''\n",
    "print(crime_name)\n",
    "print(location)\n",
    "print(date_reported)\n",
    "print(case_num)\n",
    "print(notes)\n",
    "print(occurred_between)\n",
    "print(int_ref_num)\n",
    "print(disposition)\n",
    "'''"
   ]
  },
  {
   "cell_type": "markdown",
   "metadata": {},
   "source": [
    "# Compiling Data From Strictly Pre 2019 Data\n",
    "\n",
    "from reformatted txt files\n",
    "\n",
    "I compiled a bunch of data from when before they changed the formatting for their crime reports, and I threw all the information into a text file. From this I was able to append the crimes read in into the csv"
   ]
  },
  {
   "cell_type": "code",
   "execution_count": 13,
   "metadata": {},
   "outputs": [],
   "source": [
    "txtList = [\"2018-12.txt\",\"2018-11.txt\",\"2018-10.txt\",\"2018-09.txt\",\"2018-08.txt\",\"2018-07.txt\",\"2018-06.txt\",\"2018-05.txt\",\n",
    "           \"2018-04.txt\",\"2018-03.txt\",\"2018-02.txt\",\"2018-01.txt\",\n",
    "           \"2017-12.txt\",\"2017-11.txt\",\"2017-10.txt\",\"2017-09.txt\",\"2017-08.txt\",\"2017-07.txt\",\"2017-06.txt\",\"2017-05.txt\",\n",
    "           \"2017-04.txt\",\"2017-03.txt\",\"2017-02.txt\",\"2017-01.txt\",\n",
    "           \"2016-crime-log.txt\",\n",
    "           \"2015-crime-log.txt\",\n",
    "           \"2014-crime-log-adj.txt\",\n",
    "           \"2013-crime-log.txt\",\n",
    "           \"2012-crime-log.txt\",\n",
    "           \"2011-crime-log.txt\",\n",
    "           \"2010-crime-log.txt\",\n",
    "           \"2009-crime-log.txt\",\n",
    "          ]\n",
    "\n",
    "for txt in txtList:\n",
    "    \n",
    "    with open('crimes.csv', 'a', newline = \"\") as crimes_file:\n",
    "        csv_writer = csv.writer(crimes_file, delimiter = ',')\n",
    "\n",
    "        txt_file  = open(txt, \"r\")\n",
    "\n",
    "        while 1:\n",
    "            newline = txt_file.readline()\n",
    "            if newline == \"\":\n",
    "                break\n",
    "\n",
    "            while(\"Int. Ref. #:\" in newline or \"Page\" in newline  or \"Incident Type:\" in newline or \"Location:\" in newline or \"Date/Time Reported:\" in newline):\n",
    "                newline = txt_file.readline()\n",
    "\n",
    "            crime_name = newline[:-1]\n",
    "            location = txt_file.readline()[:-1]\n",
    "            \n",
    "            next_line_loc = txt_file.readline()\n",
    "            while(\"/\" not in next_line_loc[:] and \"\" != next_line_loc):\n",
    "                location += \" \" + next_line_loc\n",
    "                next_line_loc = txt_file.readline()\n",
    "            \n",
    "            date_reported = next_line_loc[:-1]\n",
    "            disposition = txt_file.readline()[13:-1]\n",
    "            occurred_between = txt_file.readline()[27:-1]\n",
    "            case_num = txt_file.readline()[8:-1]\n",
    "            notes = txt_file.readline()[7:-1]\n",
    "\n",
    "            next_line = txt_file.readline()\n",
    "            while(\"Int. Ref. #:\" not in next_line):\n",
    "                notes += \" \"+ next_line\n",
    "                next_line = txt_file.readline()\n",
    "                if next_line == \"\":\n",
    "                    break\n",
    "\n",
    "            int_ref_num = \"\"\n",
    "\n",
    "            csv_writer.writerow([crime_name, location, date_reported, case_num, notes, occurred_between, int_ref_num, disposition])\n",
    "\n",
    "        txt_file.close()"
   ]
  },
  {
   "cell_type": "markdown",
   "metadata": {},
   "source": [
    "This code was for when I was going to make every singlr crime their individual objects so I could use them and look at them individually. However, I decided the scope of this project should not be that big."
   ]
  },
  {
   "cell_type": "code",
   "execution_count": 60,
   "metadata": {},
   "outputs": [],
   "source": [
    "class single_crime:\n",
    "    def __init__(self, crime, location, date_reported, case_num, notes, occurred_between, int_ref_num, disposition):\n",
    "        self.crime = crime\n",
    "        self.location = location\n",
    "        self.date_reported = date_reported\n",
    "        self.case_num = case_num\n",
    "        self.notes = notes\n",
    "        self.occurred_between = occurred_between\n",
    "        self.int_ref_num = int_ref_num\n",
    "        self.disposition = disposition\n",
    "    \n",
    "    def get_crime(self):\n",
    "        return(self.crime)\n",
    "    \n",
    "    def get_location(self):\n",
    "        return(self.location)\n",
    "    \n",
    "    def get_date_reported(self):\n",
    "        return(self.date_reported)\n",
    "    \n",
    "    def get_case_num(self):\n",
    "        return(self.case_num)\n",
    "    \n",
    "    def get_notes(self):\n",
    "        return(self.notes)\n",
    "    \n",
    "    def get_occured_between(self):\n",
    "        return(self.occurred_between)\n",
    "    \n",
    "    def get_int_ref_num(self):\n",
    "        return(self.int_ref_num)\n",
    "    \n",
    "    def get_disposition(self):\n",
    "        return(self.disposition)"
   ]
  },
  {
   "cell_type": "markdown",
   "metadata": {},
   "source": [
    "the 2014 crime log needed to be fixed.\n",
    "I forgot exactly what went wrong but it's okay, it's fixed now in the adjusted text"
   ]
  },
  {
   "cell_type": "code",
   "execution_count": 3,
   "metadata": {},
   "outputs": [],
   "source": [
    "txt_file  = open(\"2014-crime-log.txt\", \"r\")\n",
    "output = open(\"2014-crime-log-adj.txt\", 'a')\n",
    "\n",
    "for line in txt_file:\n",
    "    if not (len(line) < 4):\n",
    "        output.write(line)"
   ]
  }
 ],
 "metadata": {
  "kernelspec": {
   "display_name": "Python 3",
   "language": "python",
   "name": "python3"
  },
  "language_info": {
   "codemirror_mode": {
    "name": "ipython",
    "version": 3
   },
   "file_extension": ".py",
   "mimetype": "text/x-python",
   "name": "python",
   "nbconvert_exporter": "python",
   "pygments_lexer": "ipython3",
   "version": "3.7.0"
  }
 },
 "nbformat": 4,
 "nbformat_minor": 2
}
